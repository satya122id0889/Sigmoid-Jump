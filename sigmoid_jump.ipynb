{
  "nbformat": 4,
  "nbformat_minor": 0,
  "metadata": {
    "colab": {
      "provenance": []
    },
    "kernelspec": {
      "name": "python3",
      "display_name": "Python 3"
    },
    "language_info": {
      "name": "python"
    }
  },
  "cells": [
    {
      "cell_type": "markdown",
      "source": [
        "Imports\n"
      ],
      "metadata": {
        "id": "QvZQJf7diGAC"
      }
    },
    {
      "cell_type": "code",
      "execution_count": null,
      "metadata": {
        "id": "qxsoXQjGC-BI"
      },
      "outputs": [],
      "source": [
        "import math\n",
        "import numpy as np\n",
        "import matplotlib.pyplot as plt\n",
        "%matplotlib inline\n",
        "import torch\n",
        "import random"
      ]
    },
    {
      "cell_type": "markdown",
      "source": [
        "Creating Value object and it's properties"
      ],
      "metadata": {
        "id": "8BlwzCGwiOZ4"
      }
    },
    {
      "cell_type": "code",
      "source": [
        "class Value:\n",
        "  def __init__(self , data , _children = () , _op='' , label = ''):\n",
        "    self.data = data\n",
        "    self.grad = 0.0\n",
        "    self._backward = lambda:None\n",
        "    self._prev = set(_children)\n",
        "    self._op = _op\n",
        "    self.label = label\n",
        "\n",
        "  def __repr__(self):\n",
        "    return f\"Value(data = {self.data})\"\n",
        "\n",
        "  def __add__(self , other):\n",
        "    other = other if isinstance(other,Value) else Value(other)\n",
        "    out = Value(self.data + other.data , (self , other), '+')\n",
        "    def _backward():\n",
        "      self.grad += 1.0 * out.grad\n",
        "      other.grad += 1.0 * out.grad\n",
        "    out._backward = _backward\n",
        "    return out\n",
        "\n",
        "  def __mul__(self,other):\n",
        "    other = other if isinstance(other,Value) else Value(other)\n",
        "    out = Value(self.data * other.data, (self , other), '*')\n",
        "    def _backward():\n",
        "      self.grad += other.data * out.grad\n",
        "      other.grad += self.data * out.grad\n",
        "    out._backward = _backward\n",
        "\n",
        "    return out\n",
        "\n",
        "  def __rmul__(self , other):\n",
        "    return self * other\n",
        "\n",
        "  def __truediv__(self , other):\n",
        "    return self * other ** -1\n",
        "\n",
        "  def __sub__(self , other):\n",
        "    return self + (-other)\n",
        "\n",
        "  def __neg__(self ):\n",
        "    return self * (-1)\n",
        "\n",
        "  def __radd__(self , other):\n",
        "    return self + other\n",
        "\n",
        "\n",
        "  def __pow__(self , other):\n",
        "    assert isinstance(other , (int , float)) , \"only supporting int/float for now!\"\n",
        "    out = Value(self.data ** other , (self , ) , f'**{other}')\n",
        "    def _backward():\n",
        "      self.grad += other * (self.data ** (other-1)) * out.grad\n",
        "\n",
        "    out._backward = _backward\n",
        "    return out\n",
        "\n",
        "  def tanh(self):\n",
        "    x = self.data\n",
        "    t = ((math.exp(2*x) - 1) / (math.exp(2*x) + 1))\n",
        "    out = Value( t , (self , ) , 'tanh')\n",
        "    def _backward():\n",
        "      self.grad += (1 - t ** 2) * out.grad\n",
        "    out._backward = _backward\n",
        "    return out\n",
        "\n",
        "  def relu(self):\n",
        "    out = Value(0 if self.data < 0 else self.data , (self , ) , 'ReLU')\n",
        "    def backward():\n",
        "      self.grad += (0 if self.data < 0 else 1.0 ) * out.grad\n",
        "    out._backward = _backward\n",
        "    return out\n",
        "\n",
        "  def sigmoid(self):\n",
        "    x = self.data\n",
        "    out = Value(1 / (1 + math.exp(-x)) , (self , ) , 'ReLU')\n",
        "    def _backward():\n",
        "      self.grad += (out.data * (1 - out.data)) * out.grad\n",
        "    out._backward. = _backward\n",
        "    return out\n",
        "\n",
        "  def exp(self):\n",
        "    x = self.data\n",
        "    out = Value(math.exp(x) , (self , ) , 'exp')\n",
        "\n",
        "    def _backward():\n",
        "      self.grad += out.grad * out.data\n",
        "\n",
        "    out._backward = _backward\n",
        "    return out\n",
        "\n",
        "  def backward(self):\n",
        "\n",
        "    topo = []\n",
        "    visited = set()\n",
        "    def build_topo(v):\n",
        "      if v not in visited:\n",
        "        visited.add(v)\n",
        "        for child in v._prev:\n",
        "          build_topo(child)\n",
        "        topo.append(v)\n",
        "    build_topo(self)\n",
        "    self.grad = 1\n",
        "\n",
        "    for node in reversed(topo):\n",
        "      node._backward()\n",
        "\n"
      ],
      "metadata": {
        "id": "RaHUG4LNKtAJ"
      },
      "execution_count": null,
      "outputs": []
    },
    {
      "cell_type": "markdown",
      "source": [],
      "metadata": {
        "id": "OFmD67GwiTFX"
      }
    },
    {
      "cell_type": "markdown",
      "source": [
        "Visualizing tool"
      ],
      "metadata": {
        "id": "8W0onNJoiXih"
      }
    },
    {
      "cell_type": "code",
      "source": [
        "from graphviz import Digraph\n",
        "\n",
        "def trace(root):\n",
        "  # builds a set of all nodes and edges in a graph\n",
        "  nodes, edges = set(), set()\n",
        "  def build(v):\n",
        "    if v not in nodes:\n",
        "      nodes.add(v)\n",
        "      for child in v._prev:\n",
        "        edges.add((child, v))\n",
        "        build(child)\n",
        "  build(root)\n",
        "  return nodes, edges\n",
        "\n",
        "def draw_dot(root):\n",
        "  dot = Digraph(format='svg', graph_attr={'rankdir': 'LR'}) # LR = left to right\n",
        "\n",
        "  nodes, edges = trace(root)\n",
        "  for n in nodes:\n",
        "    uid = str(id(n))\n",
        "    # for any value in the graph, create a rectangular ('record') node for it\n",
        "    dot.node(name = uid, label = \"{ %s | data %.4f | grad %.4f }\" % (n.label, n.data, n.grad), shape='record')\n",
        "    if n._op:\n",
        "      # if this value is a result of some operation, create an op node for it\n",
        "      dot.node(name = uid + n._op, label = n._op)\n",
        "      # and connect this node to it\n",
        "      dot.edge(uid + n._op, uid)\n",
        "\n",
        "  for n1, n2 in edges:\n",
        "    # connect n1 to the op node of n2\n",
        "    dot.edge(str(id(n1)), str(id(n2)) + n2._op)\n",
        "\n",
        "  return dot"
      ],
      "metadata": {
        "id": "W9L7vFlI1PKl"
      },
      "execution_count": null,
      "outputs": []
    },
    {
      "cell_type": "code",
      "source": [
        "x1 = Value(2.0 , label = 'x1')\n",
        "x2 = Value(0.0 , label = 'x2')\n",
        "w1 = Value(-3.0 , label = 'w1')\n",
        "w2 = Value(1.0 , label = 'w2')\n",
        "b = Value(6.7 , label = 'b')\n",
        "x1w1 = x1 * w1 ; x1w1.label = 'x1w1'\n",
        "x2w2 = x2 * w2 ; x2w2.label = 'x2w2'\n",
        "x1w1x2w2 = x1w1 + x2w2 ; x1w1x2w2.label = 'x1w1 + x2w2'\n",
        "n = x1w1x2w2 + b ; n.label = 'n'\n",
        "\n",
        "e = (n * 2 ).exp() ; e.label = 'e'\n",
        "o = (e - 1) / (e + 1) ; o.label = 'o'"
      ],
      "metadata": {
        "id": "LTeI1EjOe5J-"
      },
      "execution_count": null,
      "outputs": []
    },
    {
      "cell_type": "code",
      "source": [
        "b + 1"
      ],
      "metadata": {
        "colab": {
          "base_uri": "https://localhost:8080/"
        },
        "id": "B-WVUyX3Y6pS",
        "outputId": "12cacbef-5437-48d0-b7f9-c095e00ed49d"
      },
      "execution_count": null,
      "outputs": [
        {
          "output_type": "execute_result",
          "data": {
            "text/plain": [
              "Value(data = 7.7)"
            ]
          },
          "metadata": {},
          "execution_count": 51
        }
      ]
    },
    {
      "cell_type": "code",
      "source": [
        "draw_dot(o)"
      ],
      "metadata": {
        "colab": {
          "base_uri": "https://localhost:8080/",
          "height": 321
        },
        "id": "8M1P5hWhicRp",
        "outputId": "6641364d-5737-4474-b9e4-9025aac245cb"
      },
      "execution_count": null,
      "outputs": [
        {
          "output_type": "execute_result",
          "data": {
            "image/svg+xml": "<?xml version=\"1.0\" encoding=\"UTF-8\" standalone=\"no\"?>\n<!DOCTYPE svg PUBLIC \"-//W3C//DTD SVG 1.1//EN\"\n \"http://www.w3.org/Graphics/SVG/1.1/DTD/svg11.dtd\">\n<!-- Generated by graphviz version 2.43.0 (0)\n -->\n<!-- Title: %3 Pages: 1 -->\n<svg width=\"2920pt\" height=\"210pt\"\n viewBox=\"0.00 0.00 2920.00 210.00\" xmlns=\"http://www.w3.org/2000/svg\" xmlns:xlink=\"http://www.w3.org/1999/xlink\">\n<g id=\"graph0\" class=\"graph\" transform=\"scale(1 1) rotate(0) translate(4 206)\">\n<title>%3</title>\n<polygon fill=\"white\" stroke=\"transparent\" points=\"-4,4 -4,-206 2916,-206 2916,4 -4,4\"/>\n<!-- 135984534112288 -->\n<g id=\"node1\" class=\"node\">\n<title>135984534112288</title>\n<polygon fill=\"none\" stroke=\"black\" points=\"2419,-106.5 2419,-142.5 2601,-142.5 2601,-106.5 2419,-106.5\"/>\n<text text-anchor=\"middle\" x=\"2429\" y=\"-120.8\" font-family=\"Times,serif\" font-size=\"14.00\"> </text>\n<polyline fill=\"none\" stroke=\"black\" points=\"2439,-106.5 2439,-142.5 \"/>\n<text text-anchor=\"middle\" x=\"2479\" y=\"-120.8\" font-family=\"Times,serif\" font-size=\"14.00\">data 0.1978</text>\n<polyline fill=\"none\" stroke=\"black\" points=\"2519,-106.5 2519,-142.5 \"/>\n<text text-anchor=\"middle\" x=\"2560\" y=\"-120.8\" font-family=\"Times,serif\" font-size=\"14.00\">grad 0.0000</text>\n</g>\n<!-- 135984534113392* -->\n<g id=\"node8\" class=\"node\">\n<title>135984534113392*</title>\n<ellipse fill=\"none\" stroke=\"black\" cx=\"2664\" cy=\"-98.5\" rx=\"27\" ry=\"18\"/>\n<text text-anchor=\"middle\" x=\"2664\" y=\"-94.8\" font-family=\"Times,serif\" font-size=\"14.00\">*</text>\n</g>\n<!-- 135984534112288&#45;&gt;135984534113392* -->\n<g id=\"edge11\" class=\"edge\">\n<title>135984534112288&#45;&gt;135984534113392*</title>\n<path fill=\"none\" stroke=\"black\" d=\"M2601.18,-109.08C2610.42,-107.49 2619.38,-105.96 2627.47,-104.58\"/>\n<polygon fill=\"black\" stroke=\"black\" points=\"2628.29,-107.99 2637.56,-102.85 2627.11,-101.09 2628.29,-107.99\"/>\n</g>\n<!-- 135984534112288**&#45;1 -->\n<g id=\"node2\" class=\"node\">\n<title>135984534112288**&#45;1</title>\n<ellipse fill=\"none\" stroke=\"black\" cx=\"2292\" cy=\"-126.5\" rx=\"27\" ry=\"18\"/>\n<text text-anchor=\"middle\" x=\"2292\" y=\"-122.8\" font-family=\"Times,serif\" font-size=\"14.00\">**&#45;1</text>\n</g>\n<!-- 135984534112288**&#45;1&#45;&gt;135984534112288 -->\n<g id=\"edge1\" class=\"edge\">\n<title>135984534112288**&#45;1&#45;&gt;135984534112288</title>\n<path fill=\"none\" stroke=\"black\" d=\"M2319.05,-126.26C2341.53,-126.05 2375.48,-125.74 2408.5,-125.43\"/>\n<polygon fill=\"black\" stroke=\"black\" points=\"2408.74,-128.93 2418.7,-125.34 2408.67,-121.93 2408.74,-128.93\"/>\n</g>\n<!-- 135985599352352 -->\n<g id=\"node3\" class=\"node\">\n<title>135985599352352</title>\n<polygon fill=\"none\" stroke=\"black\" points=\"703,-137.5 703,-173.5 888,-173.5 888,-137.5 703,-137.5\"/>\n<text text-anchor=\"middle\" x=\"714.5\" y=\"-151.8\" font-family=\"Times,serif\" font-size=\"14.00\">b</text>\n<polyline fill=\"none\" stroke=\"black\" points=\"726,-137.5 726,-173.5 \"/>\n<text text-anchor=\"middle\" x=\"766\" y=\"-151.8\" font-family=\"Times,serif\" font-size=\"14.00\">data 6.7000</text>\n<polyline fill=\"none\" stroke=\"black\" points=\"806,-137.5 806,-173.5 \"/>\n<text text-anchor=\"middle\" x=\"847\" y=\"-151.8\" font-family=\"Times,serif\" font-size=\"14.00\">grad 0.0000</text>\n</g>\n<!-- 135987390957312+ -->\n<g id=\"node17\" class=\"node\">\n<title>135987390957312+</title>\n<ellipse fill=\"none\" stroke=\"black\" cx=\"988\" cy=\"-127.5\" rx=\"27\" ry=\"18\"/>\n<text text-anchor=\"middle\" x=\"988\" y=\"-123.8\" font-family=\"Times,serif\" font-size=\"14.00\">+</text>\n</g>\n<!-- 135985599352352&#45;&gt;135987390957312+ -->\n<g id=\"edge16\" class=\"edge\">\n<title>135985599352352&#45;&gt;135987390957312+</title>\n<path fill=\"none\" stroke=\"black\" d=\"M888.12,-142.03C910.59,-138.73 933.33,-135.39 951.33,-132.74\"/>\n<polygon fill=\"black\" stroke=\"black\" points=\"951.96,-136.19 961.34,-131.27 950.94,-129.26 951.96,-136.19\"/>\n</g>\n<!-- 135987390958656 -->\n<g id=\"node4\" class=\"node\">\n<title>135987390958656</title>\n<polygon fill=\"none\" stroke=\"black\" points=\"1671,-81.5 1671,-117.5 1856,-117.5 1856,-81.5 1671,-81.5\"/>\n<text text-anchor=\"middle\" x=\"1682.5\" y=\"-95.8\" font-family=\"Times,serif\" font-size=\"14.00\">e</text>\n<polyline fill=\"none\" stroke=\"black\" points=\"1694,-81.5 1694,-117.5 \"/>\n<text text-anchor=\"middle\" x=\"1734\" y=\"-95.8\" font-family=\"Times,serif\" font-size=\"14.00\">data 4.0552</text>\n<polyline fill=\"none\" stroke=\"black\" points=\"1774,-81.5 1774,-117.5 \"/>\n<text text-anchor=\"middle\" x=\"1815\" y=\"-95.8\" font-family=\"Times,serif\" font-size=\"14.00\">grad 0.0000</text>\n</g>\n<!-- 135984534118768+ -->\n<g id=\"node24\" class=\"node\">\n<title>135984534118768+</title>\n<ellipse fill=\"none\" stroke=\"black\" cx=\"1920\" cy=\"-71.5\" rx=\"27\" ry=\"18\"/>\n<text text-anchor=\"middle\" x=\"1920\" y=\"-67.8\" font-family=\"Times,serif\" font-size=\"14.00\">+</text>\n</g>\n<!-- 135987390958656&#45;&gt;135984534118768+ -->\n<g id=\"edge14\" class=\"edge\">\n<title>135987390958656&#45;&gt;135984534118768+</title>\n<path fill=\"none\" stroke=\"black\" d=\"M1856.16,-82.89C1865.84,-81.13 1875.22,-79.43 1883.64,-77.91\"/>\n<polygon fill=\"black\" stroke=\"black\" points=\"1884.53,-81.3 1893.75,-76.08 1883.28,-74.42 1884.53,-81.3\"/>\n</g>\n<!-- 135984534126016+ -->\n<g id=\"node27\" class=\"node\">\n<title>135984534126016+</title>\n<ellipse fill=\"none\" stroke=\"black\" cx=\"1920\" cy=\"-126.5\" rx=\"27\" ry=\"18\"/>\n<text text-anchor=\"middle\" x=\"1920\" y=\"-122.8\" font-family=\"Times,serif\" font-size=\"14.00\">+</text>\n</g>\n<!-- 135987390958656&#45;&gt;135984534126016+ -->\n<g id=\"edge15\" class=\"edge\">\n<title>135987390958656&#45;&gt;135984534126016+</title>\n<path fill=\"none\" stroke=\"black\" d=\"M1856.16,-115.52C1865.84,-117.21 1875.22,-118.85 1883.64,-120.32\"/>\n<polygon fill=\"black\" stroke=\"black\" points=\"1883.29,-123.81 1893.75,-122.09 1884.5,-116.92 1883.29,-123.81\"/>\n</g>\n<!-- 135987390958656exp -->\n<g id=\"node5\" class=\"node\">\n<title>135987390958656exp</title>\n<ellipse fill=\"none\" stroke=\"black\" cx=\"1607\" cy=\"-99.5\" rx=\"27\" ry=\"18\"/>\n<text text-anchor=\"middle\" x=\"1607\" y=\"-95.8\" font-family=\"Times,serif\" font-size=\"14.00\">exp</text>\n</g>\n<!-- 135987390958656exp&#45;&gt;135987390958656 -->\n<g id=\"edge2\" class=\"edge\">\n<title>135987390958656exp&#45;&gt;135987390958656</title>\n<path fill=\"none\" stroke=\"black\" d=\"M1634.21,-99.5C1642,-99.5 1651.05,-99.5 1660.67,-99.5\"/>\n<polygon fill=\"black\" stroke=\"black\" points=\"1660.87,-103 1670.87,-99.5 1660.87,-96 1660.87,-103\"/>\n</g>\n<!-- 135985599358496 -->\n<g id=\"node6\" class=\"node\">\n<title>135985599358496</title>\n<polygon fill=\"none\" stroke=\"black\" points=\"4,-55.5 4,-91.5 196,-91.5 196,-55.5 4,-55.5\"/>\n<text text-anchor=\"middle\" x=\"19\" y=\"-69.8\" font-family=\"Times,serif\" font-size=\"14.00\">x2</text>\n<polyline fill=\"none\" stroke=\"black\" points=\"34,-55.5 34,-91.5 \"/>\n<text text-anchor=\"middle\" x=\"74\" y=\"-69.8\" font-family=\"Times,serif\" font-size=\"14.00\">data 0.0000</text>\n<polyline fill=\"none\" stroke=\"black\" points=\"114,-55.5 114,-91.5 \"/>\n<text text-anchor=\"middle\" x=\"155\" y=\"-69.8\" font-family=\"Times,serif\" font-size=\"14.00\">grad 0.0000</text>\n</g>\n<!-- 135985599352256* -->\n<g id=\"node19\" class=\"node\">\n<title>135985599352256*</title>\n<ellipse fill=\"none\" stroke=\"black\" cx=\"263\" cy=\"-73.5\" rx=\"27\" ry=\"18\"/>\n<text text-anchor=\"middle\" x=\"263\" y=\"-69.8\" font-family=\"Times,serif\" font-size=\"14.00\">*</text>\n</g>\n<!-- 135985599358496&#45;&gt;135985599352256* -->\n<g id=\"edge28\" class=\"edge\">\n<title>135985599358496&#45;&gt;135985599352256*</title>\n<path fill=\"none\" stroke=\"black\" d=\"M196.05,-73.5C206.52,-73.5 216.65,-73.5 225.71,-73.5\"/>\n<polygon fill=\"black\" stroke=\"black\" points=\"225.79,-77 235.79,-73.5 225.79,-70 225.79,-77\"/>\n</g>\n<!-- 135984534113392 -->\n<g id=\"node7\" class=\"node\">\n<title>135984534113392</title>\n<polygon fill=\"none\" stroke=\"black\" points=\"2727,-80.5 2727,-116.5 2912,-116.5 2912,-80.5 2727,-80.5\"/>\n<text text-anchor=\"middle\" x=\"2738.5\" y=\"-94.8\" font-family=\"Times,serif\" font-size=\"14.00\">o</text>\n<polyline fill=\"none\" stroke=\"black\" points=\"2750,-80.5 2750,-116.5 \"/>\n<text text-anchor=\"middle\" x=\"2790\" y=\"-94.8\" font-family=\"Times,serif\" font-size=\"14.00\">data 0.6044</text>\n<polyline fill=\"none\" stroke=\"black\" points=\"2830,-80.5 2830,-116.5 \"/>\n<text text-anchor=\"middle\" x=\"2871\" y=\"-94.8\" font-family=\"Times,serif\" font-size=\"14.00\">grad 0.0000</text>\n</g>\n<!-- 135984534113392*&#45;&gt;135984534113392 -->\n<g id=\"edge3\" class=\"edge\">\n<title>135984534113392*&#45;&gt;135984534113392</title>\n<path fill=\"none\" stroke=\"black\" d=\"M2691.04,-98.5C2698.58,-98.5 2707.3,-98.5 2716.57,-98.5\"/>\n<polygon fill=\"black\" stroke=\"black\" points=\"2716.81,-102 2726.81,-98.5 2716.81,-95 2716.81,-102\"/>\n</g>\n<!-- 135985599358592 -->\n<g id=\"node9\" class=\"node\">\n<title>135985599358592</title>\n<polygon fill=\"none\" stroke=\"black\" points=\"2.5,-0.5 2.5,-36.5 197.5,-36.5 197.5,-0.5 2.5,-0.5\"/>\n<text text-anchor=\"middle\" x=\"19\" y=\"-14.8\" font-family=\"Times,serif\" font-size=\"14.00\">w2</text>\n<polyline fill=\"none\" stroke=\"black\" points=\"35.5,-0.5 35.5,-36.5 \"/>\n<text text-anchor=\"middle\" x=\"75.5\" y=\"-14.8\" font-family=\"Times,serif\" font-size=\"14.00\">data 1.0000</text>\n<polyline fill=\"none\" stroke=\"black\" points=\"115.5,-0.5 115.5,-36.5 \"/>\n<text text-anchor=\"middle\" x=\"156.5\" y=\"-14.8\" font-family=\"Times,serif\" font-size=\"14.00\">grad 0.0000</text>\n</g>\n<!-- 135985599358592&#45;&gt;135985599352256* -->\n<g id=\"edge24\" class=\"edge\">\n<title>135985599358592&#45;&gt;135985599352256*</title>\n<path fill=\"none\" stroke=\"black\" d=\"M172.53,-36.56C181.84,-39.33 191.2,-42.33 200,-45.5 210.53,-49.29 221.75,-54.1 231.72,-58.67\"/>\n<polygon fill=\"black\" stroke=\"black\" points=\"230.28,-61.86 240.82,-62.93 233.25,-55.52 230.28,-61.86\"/>\n</g>\n<!-- 135985599356048 -->\n<g id=\"node10\" class=\"node\">\n<title>135985599356048</title>\n<polygon fill=\"none\" stroke=\"black\" points=\"0,-165.5 0,-201.5 200,-201.5 200,-165.5 0,-165.5\"/>\n<text text-anchor=\"middle\" x=\"16.5\" y=\"-179.8\" font-family=\"Times,serif\" font-size=\"14.00\">w1</text>\n<polyline fill=\"none\" stroke=\"black\" points=\"33,-165.5 33,-201.5 \"/>\n<text text-anchor=\"middle\" x=\"75.5\" y=\"-179.8\" font-family=\"Times,serif\" font-size=\"14.00\">data &#45;3.0000</text>\n<polyline fill=\"none\" stroke=\"black\" points=\"118,-165.5 118,-201.5 \"/>\n<text text-anchor=\"middle\" x=\"159\" y=\"-179.8\" font-family=\"Times,serif\" font-size=\"14.00\">grad 0.0000</text>\n</g>\n<!-- 135985599350000* -->\n<g id=\"node15\" class=\"node\">\n<title>135985599350000*</title>\n<ellipse fill=\"none\" stroke=\"black\" cx=\"263\" cy=\"-128.5\" rx=\"27\" ry=\"18\"/>\n<text text-anchor=\"middle\" x=\"263\" y=\"-124.8\" font-family=\"Times,serif\" font-size=\"14.00\">*</text>\n</g>\n<!-- 135985599356048&#45;&gt;135985599350000* -->\n<g id=\"edge20\" class=\"edge\">\n<title>135985599356048&#45;&gt;135985599350000*</title>\n<path fill=\"none\" stroke=\"black\" d=\"M172.53,-165.44C181.84,-162.67 191.2,-159.67 200,-156.5 210.53,-152.71 221.75,-147.9 231.72,-143.33\"/>\n<polygon fill=\"black\" stroke=\"black\" points=\"233.25,-146.48 240.82,-139.07 230.28,-140.14 233.25,-146.48\"/>\n</g>\n<!-- 135987390961824 -->\n<g id=\"node11\" class=\"node\">\n<title>135987390961824</title>\n<polygon fill=\"none\" stroke=\"black\" points=\"1362,-81.5 1362,-117.5 1544,-117.5 1544,-81.5 1362,-81.5\"/>\n<text text-anchor=\"middle\" x=\"1372\" y=\"-95.8\" font-family=\"Times,serif\" font-size=\"14.00\"> </text>\n<polyline fill=\"none\" stroke=\"black\" points=\"1382,-81.5 1382,-117.5 \"/>\n<text text-anchor=\"middle\" x=\"1422\" y=\"-95.8\" font-family=\"Times,serif\" font-size=\"14.00\">data 1.4000</text>\n<polyline fill=\"none\" stroke=\"black\" points=\"1462,-81.5 1462,-117.5 \"/>\n<text text-anchor=\"middle\" x=\"1503\" y=\"-95.8\" font-family=\"Times,serif\" font-size=\"14.00\">grad 0.0000</text>\n</g>\n<!-- 135987390961824&#45;&gt;135987390958656exp -->\n<g id=\"edge26\" class=\"edge\">\n<title>135987390961824&#45;&gt;135987390958656exp</title>\n<path fill=\"none\" stroke=\"black\" d=\"M1544.18,-99.5C1553.14,-99.5 1561.83,-99.5 1569.73,-99.5\"/>\n<polygon fill=\"black\" stroke=\"black\" points=\"1569.96,-103 1579.96,-99.5 1569.96,-96 1569.96,-103\"/>\n</g>\n<!-- 135987390961824* -->\n<g id=\"node12\" class=\"node\">\n<title>135987390961824*</title>\n<ellipse fill=\"none\" stroke=\"black\" cx=\"1299\" cy=\"-99.5\" rx=\"27\" ry=\"18\"/>\n<text text-anchor=\"middle\" x=\"1299\" y=\"-95.8\" font-family=\"Times,serif\" font-size=\"14.00\">*</text>\n</g>\n<!-- 135987390961824*&#45;&gt;135987390961824 -->\n<g id=\"edge4\" class=\"edge\">\n<title>135987390961824*&#45;&gt;135987390961824</title>\n<path fill=\"none\" stroke=\"black\" d=\"M1326.13,-99.5C1333.67,-99.5 1342.39,-99.5 1351.64,-99.5\"/>\n<polygon fill=\"black\" stroke=\"black\" points=\"1351.87,-103 1361.87,-99.5 1351.87,-96 1351.87,-103\"/>\n</g>\n<!-- 135984534114928 -->\n<g id=\"node13\" class=\"node\">\n<title>135984534114928</title>\n<polygon fill=\"none\" stroke=\"black\" points=\"1672.5,-136.5 1672.5,-172.5 1854.5,-172.5 1854.5,-136.5 1672.5,-136.5\"/>\n<text text-anchor=\"middle\" x=\"1682.5\" y=\"-150.8\" font-family=\"Times,serif\" font-size=\"14.00\"> </text>\n<polyline fill=\"none\" stroke=\"black\" points=\"1692.5,-136.5 1692.5,-172.5 \"/>\n<text text-anchor=\"middle\" x=\"1732.5\" y=\"-150.8\" font-family=\"Times,serif\" font-size=\"14.00\">data 1.0000</text>\n<polyline fill=\"none\" stroke=\"black\" points=\"1772.5,-136.5 1772.5,-172.5 \"/>\n<text text-anchor=\"middle\" x=\"1813.5\" y=\"-150.8\" font-family=\"Times,serif\" font-size=\"14.00\">grad 0.0000</text>\n</g>\n<!-- 135984534114928&#45;&gt;135984534126016+ -->\n<g id=\"edge13\" class=\"edge\">\n<title>135984534114928&#45;&gt;135984534126016+</title>\n<path fill=\"none\" stroke=\"black\" d=\"M1854.82,-138.13C1865.07,-136.27 1875.01,-134.47 1883.88,-132.87\"/>\n<polygon fill=\"black\" stroke=\"black\" points=\"1884.54,-136.3 1893.75,-131.08 1883.29,-129.42 1884.54,-136.3\"/>\n</g>\n<!-- 135985599350000 -->\n<g id=\"node14\" class=\"node\">\n<title>135985599350000</title>\n<polygon fill=\"none\" stroke=\"black\" points=\"326,-110.5 326,-146.5 540,-146.5 540,-110.5 326,-110.5\"/>\n<text text-anchor=\"middle\" x=\"349.5\" y=\"-124.8\" font-family=\"Times,serif\" font-size=\"14.00\">x1w1</text>\n<polyline fill=\"none\" stroke=\"black\" points=\"373,-110.5 373,-146.5 \"/>\n<text text-anchor=\"middle\" x=\"415.5\" y=\"-124.8\" font-family=\"Times,serif\" font-size=\"14.00\">data &#45;6.0000</text>\n<polyline fill=\"none\" stroke=\"black\" points=\"458,-110.5 458,-146.5 \"/>\n<text text-anchor=\"middle\" x=\"499\" y=\"-124.8\" font-family=\"Times,serif\" font-size=\"14.00\">grad 0.0000</text>\n</g>\n<!-- 135987390963552+ -->\n<g id=\"node22\" class=\"node\">\n<title>135987390963552+</title>\n<ellipse fill=\"none\" stroke=\"black\" cx=\"603\" cy=\"-100.5\" rx=\"27\" ry=\"18\"/>\n<text text-anchor=\"middle\" x=\"603\" y=\"-96.8\" font-family=\"Times,serif\" font-size=\"14.00\">+</text>\n</g>\n<!-- 135985599350000&#45;&gt;135987390963552+ -->\n<g id=\"edge23\" class=\"edge\">\n<title>135985599350000&#45;&gt;135987390963552+</title>\n<path fill=\"none\" stroke=\"black\" d=\"M540.4,-110.77C549.72,-109.21 558.65,-107.72 566.68,-106.39\"/>\n<polygon fill=\"black\" stroke=\"black\" points=\"567.38,-109.82 576.66,-104.72 566.22,-102.91 567.38,-109.82\"/>\n</g>\n<!-- 135985599350000*&#45;&gt;135985599350000 -->\n<g id=\"edge5\" class=\"edge\">\n<title>135985599350000*&#45;&gt;135985599350000</title>\n<path fill=\"none\" stroke=\"black\" d=\"M290.25,-128.5C297.7,-128.5 306.34,-128.5 315.59,-128.5\"/>\n<polygon fill=\"black\" stroke=\"black\" points=\"315.84,-132 325.84,-128.5 315.84,-125 315.84,-132\"/>\n</g>\n<!-- 135987390957312 -->\n<g id=\"node16\" class=\"node\">\n<title>135987390957312</title>\n<polygon fill=\"none\" stroke=\"black\" points=\"1051,-109.5 1051,-145.5 1236,-145.5 1236,-109.5 1051,-109.5\"/>\n<text text-anchor=\"middle\" x=\"1062.5\" y=\"-123.8\" font-family=\"Times,serif\" font-size=\"14.00\">n</text>\n<polyline fill=\"none\" stroke=\"black\" points=\"1074,-109.5 1074,-145.5 \"/>\n<text text-anchor=\"middle\" x=\"1114\" y=\"-123.8\" font-family=\"Times,serif\" font-size=\"14.00\">data 0.7000</text>\n<polyline fill=\"none\" stroke=\"black\" points=\"1154,-109.5 1154,-145.5 \"/>\n<text text-anchor=\"middle\" x=\"1195\" y=\"-123.8\" font-family=\"Times,serif\" font-size=\"14.00\">grad 0.0000</text>\n</g>\n<!-- 135987390957312&#45;&gt;135987390961824* -->\n<g id=\"edge22\" class=\"edge\">\n<title>135987390957312&#45;&gt;135987390961824*</title>\n<path fill=\"none\" stroke=\"black\" d=\"M1236.01,-110.81C1245.49,-109.08 1254.66,-107.41 1262.9,-105.9\"/>\n<polygon fill=\"black\" stroke=\"black\" points=\"1263.6,-109.33 1272.81,-104.09 1262.35,-102.45 1263.6,-109.33\"/>\n</g>\n<!-- 135987390957312+&#45;&gt;135987390957312 -->\n<g id=\"edge6\" class=\"edge\">\n<title>135987390957312+&#45;&gt;135987390957312</title>\n<path fill=\"none\" stroke=\"black\" d=\"M1015.04,-127.5C1022.58,-127.5 1031.3,-127.5 1040.57,-127.5\"/>\n<polygon fill=\"black\" stroke=\"black\" points=\"1040.81,-131 1050.81,-127.5 1040.81,-124 1040.81,-131\"/>\n</g>\n<!-- 135985599352256 -->\n<g id=\"node18\" class=\"node\">\n<title>135985599352256</title>\n<polygon fill=\"none\" stroke=\"black\" points=\"328.5,-55.5 328.5,-91.5 537.5,-91.5 537.5,-55.5 328.5,-55.5\"/>\n<text text-anchor=\"middle\" x=\"352\" y=\"-69.8\" font-family=\"Times,serif\" font-size=\"14.00\">x2w2</text>\n<polyline fill=\"none\" stroke=\"black\" points=\"375.5,-55.5 375.5,-91.5 \"/>\n<text text-anchor=\"middle\" x=\"415.5\" y=\"-69.8\" font-family=\"Times,serif\" font-size=\"14.00\">data 0.0000</text>\n<polyline fill=\"none\" stroke=\"black\" points=\"455.5,-55.5 455.5,-91.5 \"/>\n<text text-anchor=\"middle\" x=\"496.5\" y=\"-69.8\" font-family=\"Times,serif\" font-size=\"14.00\">grad 0.0000</text>\n</g>\n<!-- 135985599352256&#45;&gt;135987390963552+ -->\n<g id=\"edge19\" class=\"edge\">\n<title>135985599352256&#45;&gt;135987390963552+</title>\n<path fill=\"none\" stroke=\"black\" d=\"M537.53,-90.14C547.8,-91.79 557.66,-93.37 566.45,-94.79\"/>\n<polygon fill=\"black\" stroke=\"black\" points=\"566.16,-98.28 576.59,-96.42 567.27,-91.37 566.16,-98.28\"/>\n</g>\n<!-- 135985599352256*&#45;&gt;135985599352256 -->\n<g id=\"edge7\" class=\"edge\">\n<title>135985599352256*&#45;&gt;135985599352256</title>\n<path fill=\"none\" stroke=\"black\" d=\"M290.25,-73.5C298.43,-73.5 308.03,-73.5 318.31,-73.5\"/>\n<polygon fill=\"black\" stroke=\"black\" points=\"318.35,-77 328.35,-73.5 318.35,-70 318.35,-77\"/>\n</g>\n<!-- 135985599364928 -->\n<g id=\"node20\" class=\"node\">\n<title>135985599364928</title>\n<polygon fill=\"none\" stroke=\"black\" points=\"4,-110.5 4,-146.5 196,-146.5 196,-110.5 4,-110.5\"/>\n<text text-anchor=\"middle\" x=\"19\" y=\"-124.8\" font-family=\"Times,serif\" font-size=\"14.00\">x1</text>\n<polyline fill=\"none\" stroke=\"black\" points=\"34,-110.5 34,-146.5 \"/>\n<text text-anchor=\"middle\" x=\"74\" y=\"-124.8\" font-family=\"Times,serif\" font-size=\"14.00\">data 2.0000</text>\n<polyline fill=\"none\" stroke=\"black\" points=\"114,-110.5 114,-146.5 \"/>\n<text text-anchor=\"middle\" x=\"155\" y=\"-124.8\" font-family=\"Times,serif\" font-size=\"14.00\">grad 0.0000</text>\n</g>\n<!-- 135985599364928&#45;&gt;135985599350000* -->\n<g id=\"edge25\" class=\"edge\">\n<title>135985599364928&#45;&gt;135985599350000*</title>\n<path fill=\"none\" stroke=\"black\" d=\"M196.05,-128.5C206.52,-128.5 216.65,-128.5 225.71,-128.5\"/>\n<polygon fill=\"black\" stroke=\"black\" points=\"225.79,-132 235.79,-128.5 225.79,-125 225.79,-132\"/>\n</g>\n<!-- 135987390963552 -->\n<g id=\"node21\" class=\"node\">\n<title>135987390963552</title>\n<polygon fill=\"none\" stroke=\"black\" points=\"666,-82.5 666,-118.5 925,-118.5 925,-82.5 666,-82.5\"/>\n<text text-anchor=\"middle\" x=\"712\" y=\"-96.8\" font-family=\"Times,serif\" font-size=\"14.00\">x1w1 + x2w2</text>\n<polyline fill=\"none\" stroke=\"black\" points=\"758,-82.5 758,-118.5 \"/>\n<text text-anchor=\"middle\" x=\"800.5\" y=\"-96.8\" font-family=\"Times,serif\" font-size=\"14.00\">data &#45;6.0000</text>\n<polyline fill=\"none\" stroke=\"black\" points=\"843,-82.5 843,-118.5 \"/>\n<text text-anchor=\"middle\" x=\"884\" y=\"-96.8\" font-family=\"Times,serif\" font-size=\"14.00\">grad 0.0000</text>\n</g>\n<!-- 135987390963552&#45;&gt;135987390957312+ -->\n<g id=\"edge27\" class=\"edge\">\n<title>135987390963552&#45;&gt;135987390957312+</title>\n<path fill=\"none\" stroke=\"black\" d=\"M923.57,-118.51C933.55,-119.92 943,-121.26 951.42,-122.46\"/>\n<polygon fill=\"black\" stroke=\"black\" points=\"951.09,-125.95 961.48,-123.88 952.07,-119.01 951.09,-125.95\"/>\n</g>\n<!-- 135987390963552+&#45;&gt;135987390963552 -->\n<g id=\"edge8\" class=\"edge\">\n<title>135987390963552+&#45;&gt;135987390963552</title>\n<path fill=\"none\" stroke=\"black\" d=\"M630.09,-100.5C637.58,-100.5 646.3,-100.5 655.75,-100.5\"/>\n<polygon fill=\"black\" stroke=\"black\" points=\"655.84,-104 665.84,-100.5 655.84,-97 655.84,-104\"/>\n</g>\n<!-- 135984534118768 -->\n<g id=\"node23\" class=\"node\">\n<title>135984534118768</title>\n<polygon fill=\"none\" stroke=\"black\" points=\"2201,-53.5 2201,-89.5 2383,-89.5 2383,-53.5 2201,-53.5\"/>\n<text text-anchor=\"middle\" x=\"2211\" y=\"-67.8\" font-family=\"Times,serif\" font-size=\"14.00\"> </text>\n<polyline fill=\"none\" stroke=\"black\" points=\"2221,-53.5 2221,-89.5 \"/>\n<text text-anchor=\"middle\" x=\"2261\" y=\"-67.8\" font-family=\"Times,serif\" font-size=\"14.00\">data 3.0552</text>\n<polyline fill=\"none\" stroke=\"black\" points=\"2301,-53.5 2301,-89.5 \"/>\n<text text-anchor=\"middle\" x=\"2342\" y=\"-67.8\" font-family=\"Times,serif\" font-size=\"14.00\">grad 0.0000</text>\n</g>\n<!-- 135984534118768&#45;&gt;135984534113392* -->\n<g id=\"edge12\" class=\"edge\">\n<title>135984534118768&#45;&gt;135984534113392*</title>\n<path fill=\"none\" stroke=\"black\" d=\"M2383.04,-78.07C2461.41,-83.79 2570.98,-91.79 2626.96,-95.87\"/>\n<polygon fill=\"black\" stroke=\"black\" points=\"2626.87,-99.37 2637.1,-96.61 2627.38,-92.39 2626.87,-99.37\"/>\n</g>\n<!-- 135984534118768+&#45;&gt;135984534118768 -->\n<g id=\"edge9\" class=\"edge\">\n<title>135984534118768+&#45;&gt;135984534118768</title>\n<path fill=\"none\" stroke=\"black\" d=\"M1947.02,-71.5C1996.84,-71.5 2108.08,-71.5 2190.65,-71.5\"/>\n<polygon fill=\"black\" stroke=\"black\" points=\"2190.82,-75 2200.82,-71.5 2190.82,-68 2190.82,-75\"/>\n</g>\n<!-- 135984534116704 -->\n<g id=\"node25\" class=\"node\">\n<title>135984534116704</title>\n<polygon fill=\"none\" stroke=\"black\" points=\"1670,-26.5 1670,-62.5 1857,-62.5 1857,-26.5 1670,-26.5\"/>\n<text text-anchor=\"middle\" x=\"1680\" y=\"-40.8\" font-family=\"Times,serif\" font-size=\"14.00\"> </text>\n<polyline fill=\"none\" stroke=\"black\" points=\"1690,-26.5 1690,-62.5 \"/>\n<text text-anchor=\"middle\" x=\"1732.5\" y=\"-40.8\" font-family=\"Times,serif\" font-size=\"14.00\">data &#45;1.0000</text>\n<polyline fill=\"none\" stroke=\"black\" points=\"1775,-26.5 1775,-62.5 \"/>\n<text text-anchor=\"middle\" x=\"1816\" y=\"-40.8\" font-family=\"Times,serif\" font-size=\"14.00\">grad 0.0000</text>\n</g>\n<!-- 135984534116704&#45;&gt;135984534118768+ -->\n<g id=\"edge17\" class=\"edge\">\n<title>135984534116704&#45;&gt;135984534118768+</title>\n<path fill=\"none\" stroke=\"black\" d=\"M1857.05,-60.67C1866.34,-62.3 1875.33,-63.87 1883.44,-65.29\"/>\n<polygon fill=\"black\" stroke=\"black\" points=\"1883.1,-68.78 1893.55,-67.05 1884.3,-61.88 1883.1,-68.78\"/>\n</g>\n<!-- 135984534126016 -->\n<g id=\"node26\" class=\"node\">\n<title>135984534126016</title>\n<polygon fill=\"none\" stroke=\"black\" points=\"1983,-108.5 1983,-144.5 2165,-144.5 2165,-108.5 1983,-108.5\"/>\n<text text-anchor=\"middle\" x=\"1993\" y=\"-122.8\" font-family=\"Times,serif\" font-size=\"14.00\"> </text>\n<polyline fill=\"none\" stroke=\"black\" points=\"2003,-108.5 2003,-144.5 \"/>\n<text text-anchor=\"middle\" x=\"2043\" y=\"-122.8\" font-family=\"Times,serif\" font-size=\"14.00\">data 5.0552</text>\n<polyline fill=\"none\" stroke=\"black\" points=\"2083,-108.5 2083,-144.5 \"/>\n<text text-anchor=\"middle\" x=\"2124\" y=\"-122.8\" font-family=\"Times,serif\" font-size=\"14.00\">grad 0.0000</text>\n</g>\n<!-- 135984534126016&#45;&gt;135984534112288**&#45;1 -->\n<g id=\"edge18\" class=\"edge\">\n<title>135984534126016&#45;&gt;135984534112288**&#45;1</title>\n<path fill=\"none\" stroke=\"black\" d=\"M2165.04,-126.5C2196.5,-126.5 2230.05,-126.5 2254.61,-126.5\"/>\n<polygon fill=\"black\" stroke=\"black\" points=\"2254.89,-130 2264.89,-126.5 2254.89,-123 2254.89,-130\"/>\n</g>\n<!-- 135984534126016+&#45;&gt;135984534126016 -->\n<g id=\"edge10\" class=\"edge\">\n<title>135984534126016+&#45;&gt;135984534126016</title>\n<path fill=\"none\" stroke=\"black\" d=\"M1947.13,-126.5C1954.67,-126.5 1963.39,-126.5 1972.64,-126.5\"/>\n<polygon fill=\"black\" stroke=\"black\" points=\"1972.87,-130 1982.87,-126.5 1972.87,-123 1972.87,-130\"/>\n</g>\n<!-- 135987390958560 -->\n<g id=\"node28\" class=\"node\">\n<title>135987390958560</title>\n<polygon fill=\"none\" stroke=\"black\" points=\"1052.5,-54.5 1052.5,-90.5 1234.5,-90.5 1234.5,-54.5 1052.5,-54.5\"/>\n<text text-anchor=\"middle\" x=\"1062.5\" y=\"-68.8\" font-family=\"Times,serif\" font-size=\"14.00\"> </text>\n<polyline fill=\"none\" stroke=\"black\" points=\"1072.5,-54.5 1072.5,-90.5 \"/>\n<text text-anchor=\"middle\" x=\"1112.5\" y=\"-68.8\" font-family=\"Times,serif\" font-size=\"14.00\">data 2.0000</text>\n<polyline fill=\"none\" stroke=\"black\" points=\"1152.5,-54.5 1152.5,-90.5 \"/>\n<text text-anchor=\"middle\" x=\"1193.5\" y=\"-68.8\" font-family=\"Times,serif\" font-size=\"14.00\">grad 0.0000</text>\n</g>\n<!-- 135987390958560&#45;&gt;135987390961824* -->\n<g id=\"edge21\" class=\"edge\">\n<title>135987390958560&#45;&gt;135987390961824*</title>\n<path fill=\"none\" stroke=\"black\" d=\"M1234.68,-88.36C1244.61,-90.11 1254.23,-91.8 1262.84,-93.32\"/>\n<polygon fill=\"black\" stroke=\"black\" points=\"1262.36,-96.78 1272.81,-95.07 1263.57,-89.89 1262.36,-96.78\"/>\n</g>\n</g>\n</svg>\n",
            "text/plain": [
              "<graphviz.graphs.Digraph at 0x7bad9d581750>"
            ]
          },
          "metadata": {},
          "execution_count": 52
        }
      ]
    },
    {
      "cell_type": "code",
      "source": [
        "o.backward()"
      ],
      "metadata": {
        "id": "8-d3mEJv636N"
      },
      "execution_count": null,
      "outputs": []
    },
    {
      "cell_type": "code",
      "source": [
        "x1 = torch.Tensor([2.0]).double()               ;x1.requires_grad = True\n",
        "x2 = torch.Tensor([0.0]).double()               ;x2.requires_grad = True\n",
        "w1 = torch.Tensor([-3.0]).double()              ;w1.requires_grad = True\n",
        "w2 = torch.Tensor([1.0]).double()               ;w2.requires_grad = True\n",
        "\n",
        "b = torch.Tensor([6.88137358701]).double()      ;b.requires_grad = True\n",
        "n = x1*w1 + x2*w2 + b\n",
        "o = torch.tanh(n)\n",
        "\n",
        "print(o.data.item())\n",
        "\n",
        "print('____')\n",
        "o.backward()\n",
        "print('x1' , x1.grad.item())\n",
        "print('w1' , w1.grad.item())\n",
        "print('x2' , x2.grad.item())\n",
        "print('w2' , w2.grad.item())\n",
        "\n"
      ],
      "metadata": {
        "colab": {
          "base_uri": "https://localhost:8080/"
        },
        "id": "_SgDwG8hVoUo",
        "outputId": "94d66ee2-9ecb-4971-b2ff-22041d44a6bb"
      },
      "execution_count": null,
      "outputs": [
        {
          "output_type": "stream",
          "name": "stdout",
          "text": [
            "0.7071066904050358\n",
            "____\n",
            "x1 -1.5000003851533106\n",
            "w1 1.0000002567688737\n",
            "x2 0.5000001283844369\n",
            "w2 0.0\n"
          ]
        }
      ]
    },
    {
      "cell_type": "code",
      "source": [
        "#creating MLP step by step"
      ],
      "metadata": {
        "id": "kJ7JnRcCidwL"
      },
      "execution_count": null,
      "outputs": []
    },
    {
      "cell_type": "code",
      "source": [
        "class Neuron:\n",
        "\n",
        "  def __init__(self, nin):\n",
        "    self.w = [Value(random.uniform(-1,1)) for _ in range(nin)]\n",
        "    self.b = Value(random.uniform(-1,1))\n",
        "\n",
        "  def __call__(self, x):\n",
        "    # w * x + b\n",
        "    act = sum((wi*xi for wi, xi in zip(self.w, x)), self.b)\n",
        "    out = act.tanh()\n",
        "    return out\n",
        "\n",
        "  def parameters(self):\n",
        "    return self.w + [self.b]\n",
        "\n",
        "\n",
        "class Layer:\n",
        "\n",
        "  def __init__(self, nin, nout):\n",
        "    self.neurons = [Neuron(nin) for _ in range(nout)]\n",
        "\n",
        "  def __call__(self, x):\n",
        "    outs = [n(x) for n in self.neurons]\n",
        "    return outs[0] if len(outs) == 1 else outs\n",
        "\n",
        "  def parameters(self):\n",
        "    return [p for neuron in self.neurons for p in neuron.parameters()]\n",
        "\n",
        "\n",
        "\n",
        "class MLP:\n",
        "\n",
        "  def __init__(self, nin, nouts):\n",
        "    sz = [nin] + nouts\n",
        "    self.layers = [Layer(sz[i], sz[i+1]) for i in range(len(nouts))]\n",
        "\n",
        "  def __call__(self, x):\n",
        "    for layer in self.layers:\n",
        "      x = layer(x)\n",
        "    return x\n",
        "\n",
        "  def parameters(self):\n",
        "    return [p for layer in self.layers for p in layer.parameters()]\n"
      ],
      "metadata": {
        "id": "6LtOiTlkzI_E"
      },
      "execution_count": null,
      "outputs": []
    },
    {
      "cell_type": "code",
      "source": [
        "#custom made dataset"
      ],
      "metadata": {
        "id": "plM428wUineV"
      },
      "execution_count": null,
      "outputs": []
    },
    {
      "cell_type": "code",
      "source": [
        "x = [2.0, 3.0, -1.0]\n",
        "n = MLP(3, [4, 4, 1])\n",
        "n(x)"
      ],
      "metadata": {
        "colab": {
          "base_uri": "https://localhost:8080/"
        },
        "id": "FoVd_YeazKQW",
        "outputId": "c89c7625-0dd2-4797-faf2-637997deb833"
      },
      "execution_count": null,
      "outputs": [
        {
          "output_type": "execute_result",
          "data": {
            "text/plain": [
              "Value(data = -0.5901788114912467)"
            ]
          },
          "metadata": {},
          "execution_count": 58
        }
      ]
    },
    {
      "cell_type": "code",
      "source": [
        "xs = [\n",
        "  [2.0, 3.0, -1.0],\n",
        "  [3.0, -1.0, 0.5],\n",
        "  [0.5, 1.0, 1.0],\n",
        "  [1.0, 1.0, -1.0],\n",
        "]\n",
        "ys = [1.0, -1.0, -1.0, 1.0] # desired targets"
      ],
      "metadata": {
        "id": "ptu1gY45vNUs"
      },
      "execution_count": null,
      "outputs": []
    },
    {
      "cell_type": "code",
      "source": [
        "#epoch/training manual code"
      ],
      "metadata": {
        "id": "TaGWQNGJiqSB"
      },
      "execution_count": null,
      "outputs": []
    },
    {
      "cell_type": "code",
      "source": [
        "for k in range(20):\n",
        "\n",
        "  # forward pass\n",
        "  ypred = [n(x) for x in xs]\n",
        "  loss = sum((yout - ygt)**2 for ygt, yout in zip(ys, ypred))\n",
        "\n",
        "  # backward pass\n",
        "  for p in n.parameters():\n",
        "    p.grad = 0.0\n",
        "  loss.backward()\n",
        "\n",
        "  # update\n",
        "  for p in n.parameters():\n",
        "    p.data += -0.05 * p.grad\n",
        "\n",
        "  print(k, loss.data)\n"
      ],
      "metadata": {
        "colab": {
          "base_uri": "https://localhost:8080/"
        },
        "id": "JKHcA-TgvdCn",
        "outputId": "24e55a40-55ff-4ee0-a46c-1105ce7e0ef1"
      },
      "execution_count": null,
      "outputs": [
        {
          "output_type": "stream",
          "name": "stdout",
          "text": [
            "0 5.16849629172083\n",
            "1 2.8050478162999597\n",
            "2 2.52121859032995\n",
            "3 2.2467556603456855\n",
            "4 1.920077001098706\n",
            "5 1.5136169877660568\n",
            "6 1.0661336065999922\n",
            "7 0.6922894469587416\n",
            "8 0.45584079793333565\n",
            "9 0.32117653153699394\n",
            "10 0.2414467940767575\n",
            "11 0.19069123758099674\n",
            "12 0.15620447752219782\n",
            "13 0.1315157958878047\n",
            "14 0.11309812141689919\n",
            "15 0.09890019882555719\n",
            "16 0.08766065887060191\n",
            "17 0.0785666179217817\n",
            "18 0.07107316185380093\n",
            "19 0.06480262633114288\n"
          ]
        }
      ]
    }
  ]
}